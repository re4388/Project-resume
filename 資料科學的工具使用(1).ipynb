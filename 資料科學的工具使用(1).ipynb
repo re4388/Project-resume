{
  "nbformat": 4,
  "nbformat_minor": 0,
  "metadata": {
    "colab": {
      "name": "資料科學的工具使用(1).ipynb",
      "version": "0.3.2",
      "provenance": [],
      "include_colab_link": true
    },
    "kernelspec": {
      "name": "python3",
      "display_name": "Python 3"
    }
  },
  "cells": [
    {
      "cell_type": "markdown",
      "metadata": {
        "id": "view-in-github",
        "colab_type": "text"
      },
      "source": [
        "<a href=\"https://colab.research.google.com/github/re4388/Project-resume/blob/master/%E8%B3%87%E6%96%99%E7%A7%91%E5%AD%B8%E7%9A%84%E5%B7%A5%E5%85%B7%E4%BD%BF%E7%94%A8(1).ipynb\" target=\"_parent\"><img src=\"https://colab.research.google.com/assets/colab-badge.svg\" alt=\"Open In Colab\"/></a>"
      ]
    },
    {
      "cell_type": "markdown",
      "metadata": {
        "id": "68uaPGhDM9ZU",
        "colab_type": "text"
      },
      "source": [
        "# 資料科學的工具使用(1)"
      ]
    },
    {
      "cell_type": "markdown",
      "metadata": {
        "id": "WoUhQXtP7CB8",
        "colab_type": "text"
      },
      "source": [
        "參考資料:\n",
        "1. Standford CS231<http://cs231n.github.io/python-numpy-tutorial/>"
      ]
    },
    {
      "cell_type": "markdown",
      "metadata": {
        "id": "mfcTKDtINGZx",
        "colab_type": "text"
      },
      "source": [
        "## 複習一下quicksort"
      ]
    },
    {
      "cell_type": "code",
      "metadata": {
        "id": "DwcJWbipNF-4",
        "colab_type": "code",
        "outputId": "3e385fd0-858f-4423-eadb-2f661ed14f81",
        "colab": {
          "base_uri": "https://localhost:8080/",
          "height": 34
        }
      },
      "source": [
        "def quicksort(arr):\n",
        "\n",
        "# recursion都要有一個終點\n",
        "  if len(arr) <= 1:\n",
        "    return arr\n",
        "\n",
        "# 抓中間\n",
        "  pivot = arr[len(arr) // 2]\n",
        "\n",
        "# 把list依照大小分成三部分\n",
        "  left = [ x for x in arr if x > pivot]\n",
        "  middle = [ x for x in arr if x == pivot]\n",
        "  right = [x for x in arr if x < pivot]\n",
        "\n",
        "# 核心概念：\n",
        "# 然後利用遞迴，不斷的一直分成有序三部分，越分越小，\n",
        "# function call會一直stack up，最後全部都分好後，再不斷的組合起來，會形成的list就會有序的\n",
        "  return quicksort(left) + middle + quicksort(right)\n",
        "\n",
        "test_arr = [2,3,45,5,333,22,1,2,3,34,4]\n",
        "\n",
        "quicksort(test_arr)"
      ],
      "execution_count": 0,
      "outputs": [
        {
          "output_type": "execute_result",
          "data": {
            "text/plain": [
              "[333, 45, 34, 22, 5, 4, 3, 3, 2, 2, 1]"
            ]
          },
          "metadata": {
            "tags": []
          },
          "execution_count": 17
        }
      ]
    },
    {
      "cell_type": "markdown",
      "metadata": {
        "id": "qtaj8AVKNOpQ",
        "colab_type": "text"
      },
      "source": [
        "## assign variable"
      ]
    },
    {
      "cell_type": "code",
      "metadata": {
        "id": "WbZEABJUNLCh",
        "colab_type": "code",
        "colab": {}
      },
      "source": [
        "# 確認python版本\n",
        "!python --version\n",
        "\n",
        "\n",
        "# assign variable\n",
        "x = 3\n",
        "\n",
        "print(type(x))\n",
        "print(x)\n",
        "x += 1\n",
        "x *= 6  \n",
        "# python doesn't have X++ as Javascript"
      ],
      "execution_count": 0,
      "outputs": []
    },
    {
      "cell_type": "markdown",
      "metadata": {
        "id": "1njDyUgcNRuq",
        "colab_type": "text"
      },
      "source": [
        "## AND, OR, NOT, XOR"
      ]
    },
    {
      "cell_type": "code",
      "metadata": {
        "id": "gxDh4IRjNT1k",
        "colab_type": "code",
        "colab": {}
      },
      "source": [
        "t = True\n",
        "f = False\n",
        "\n",
        "print( t and f)\n",
        "print( t or f)\n",
        "print( not t)\n",
        "\n",
        "# XOR\n",
        "print( t != f)"
      ],
      "execution_count": 0,
      "outputs": []
    },
    {
      "cell_type": "markdown",
      "metadata": {
        "id": "CoZHoWKJNa9E",
        "colab_type": "text"
      },
      "source": [
        "## 字串操作"
      ]
    },
    {
      "cell_type": "code",
      "metadata": {
        "id": "keuivqwjNgd8",
        "colab_type": "code",
        "colab": {}
      },
      "source": [
        "s = \"hello\"\n",
        "# s.capitalize()\n",
        "# s.upper()\n",
        "# s.replace('l', 'X')\n",
        "\n",
        "list(range(5))"
      ],
      "execution_count": 0,
      "outputs": []
    },
    {
      "cell_type": "markdown",
      "metadata": {
        "id": "ZTOnoaHdNiRF",
        "colab_type": "text"
      },
      "source": [
        "## Numpy 建立list和建立array, 看shape"
      ]
    },
    {
      "cell_type": "code",
      "metadata": {
        "id": "-_QKF2wjNkXs",
        "colab_type": "code",
        "colab": {}
      },
      "source": [
        "import numpy as np\n",
        "\n",
        "list(range(5)) # [0, 1, 2, 3, 4]\n",
        "\n",
        "a = np.array([1,2,3])\n",
        "type(a)\n",
        "\n",
        "# see row,col pair\n",
        "a.shape\n",
        "\n",
        "# access element\n",
        "a[2]\n",
        "\n",
        "# 2 by 3 matrix\n",
        "b = np.array([[1,2,3],\n",
        "            [4,5,6]])\n",
        "\n",
        "# check shape\n",
        "b.shape\n",
        "\n",
        "# access element\n",
        "b[1,2]"
      ],
      "execution_count": 0,
      "outputs": []
    },
    {
      "cell_type": "markdown",
      "metadata": {
        "id": "Ulq-ajHlNq9Y",
        "colab_type": "text"
      },
      "source": [
        "## Subarry from original array"
      ]
    },
    {
      "cell_type": "code",
      "metadata": {
        "id": "C8z-QIPtNqDk",
        "colab_type": "code",
        "colab": {}
      },
      "source": [
        "# get subarray from ori-array,\n",
        "# modify the subarry also change the ori-array\n",
        "\n",
        "a = np.array([[1, 2, 3, 4],\n",
        "              [5, 6, 7, 8],\n",
        "              [9,10,11,12]])\n",
        "a\n",
        "\n",
        "b = a[0:2, 1:3]  # row 0 to 2, w/o 2  and col 1 to 3, w/o 3\n",
        "b"
      ],
      "execution_count": 0,
      "outputs": []
    },
    {
      "cell_type": "markdown",
      "metadata": {
        "id": "l0tlruUJNvj_",
        "colab_type": "text"
      },
      "source": [
        "## Integer array indexing 整數arrayINDEX\n",
        "另一個access elt 的操作方法"
      ]
    },
    {
      "cell_type": "code",
      "metadata": {
        "id": "D3bKdmXVNx0b",
        "colab_type": "code",
        "colab": {}
      },
      "source": [
        "# Integer array indexing\n",
        "\n",
        "# create a matrix first\n",
        "a = np.array([[1,2],\n",
        "              [3, 4],\n",
        "              [5, 6]])\n",
        "\n",
        "# like, row-col pair (0,0), (1,1), (2,0) to access elt\n",
        "a[[0,1,2],\n",
        "  [0,1,0]]\n",
        "\n",
        "# equvalient to this\n",
        "np.array([a[0, 0], a[1, 1], a[2, 0]])\n",
        "\n",
        "# a[[0,1,2],\n",
        "#   [1,0,1]] # 2,3 6"
      ],
      "execution_count": 0,
      "outputs": []
    },
    {
      "cell_type": "markdown",
      "metadata": {
        "id": "0tJCPqyxN1pv",
        "colab_type": "text"
      },
      "source": [
        "Integer array indexing example"
      ]
    },
    {
      "cell_type": "code",
      "metadata": {
        "id": "TxGSwYV_N36M",
        "colab_type": "code",
        "colab": {}
      },
      "source": [
        "# arrange is another way to create list\n",
        "# np.arange(4)\n",
        "# np.arange(1,3)\n",
        "# np.arange(1,6,2)\n",
        "# np.arange(1,2,0.1)\n",
        "\n",
        "a = np.array([[1,2,3],\n",
        "              [4,5,6],\n",
        "              [7,8,9],\n",
        "              [10, 11, 12]])\n",
        "\n",
        "b = np.array([0,2,0,1])\n",
        "\n",
        "# np.arange is just another way for creating list\n",
        "a[np.arange(4),b]\n",
        "\n",
        "# [0,1,2,3]\n",
        "# [0,2,0,1]\n",
        "\n",
        "# you can also change the element\n",
        "a[np.arange(4),b] += 100\n",
        "a"
      ],
      "execution_count": 0,
      "outputs": []
    },
    {
      "cell_type": "markdown",
      "metadata": {
        "id": "7WQ9czm3N6oy",
        "colab_type": "text"
      },
      "source": [
        "## 布林Boolean index in matrix"
      ]
    },
    {
      "cell_type": "code",
      "metadata": {
        "id": "IyXA0mg9N9NM",
        "colab_type": "code",
        "colab": {}
      },
      "source": [
        "# so you can create a treu/false matrix with given condition\n",
        "a = np.array([[1,2],\n",
        "              [3, 4],\n",
        "              [5, 6]])\n",
        "b = a > 2\n",
        "b\n",
        "# you can also feed this matrix into a and ouput \n",
        "# only the true value list / or rank 1 array\n",
        "\n",
        "a[b]\n",
        "\n",
        "# or more succceinetly\n",
        "a[a>2]"
      ],
      "execution_count": 0,
      "outputs": []
    },
    {
      "cell_type": "markdown",
      "metadata": {
        "id": "uM60EJ-vN_Jk",
        "colab_type": "text"
      },
      "source": [
        "## 加總"
      ]
    },
    {
      "cell_type": "code",
      "metadata": {
        "id": "pEILrkJSOBT_",
        "colab_type": "code",
        "colab": {}
      },
      "source": [
        "b = np.array([[4, 1],\n",
        "              [2, 2]])\n",
        "\n",
        "np.sum(b, axis=1)   # array([5, 4])\n",
        "\n",
        "x = np.array([[1,2],\n",
        "              [3,4]])\n",
        "\n",
        "print(np.sum(x))\n",
        "\n",
        "# add up col and ouput np rank1 array\n",
        "print(np.sum(x, axis=0))\n",
        "type(np.sum(x, axis=0))\n",
        "\n",
        "# add up row\n",
        "print(np.sum(x, axis=1))"
      ],
      "execution_count": 0,
      "outputs": []
    },
    {
      "cell_type": "markdown",
      "metadata": {
        "id": "hk8n8jtnOC_K",
        "colab_type": "text"
      },
      "source": [
        "## reshape"
      ]
    },
    {
      "cell_type": "code",
      "metadata": {
        "id": "KSiHH0ocOE72",
        "colab_type": "code",
        "colab": {}
      },
      "source": [
        "a = np.array((5,6,7,8))\n",
        "a_r = a.reshape((2,2))\n",
        "\n",
        "# a_r:\n",
        "#  [[1 2]\n",
        "#  [3 4]]\n",
        "\n",
        "c = np.array([[1,2,3,4],\n",
        "               [4,5,6,7],\n",
        "               [7,8,9,1]])\n",
        "\n",
        "d = a.reshape((-1,1))\n",
        "# d:\n",
        "#  [[1]\n",
        "#  [2]\n",
        "#  [3]\n",
        "#  [4]]\n",
        "\n",
        "\n",
        "e = a.reshape((1,-1))\n",
        "# e:\n",
        "#  [[1 2 3 4]]\n",
        "\n",
        "f =  c.reshape((2,-1))\n",
        "f\n",
        "# array([[1, 2, 3, 4, 4, 5],\n",
        "#        [6, 7, 7, 8, 9, 1]])\n",
        "\n",
        "\n",
        "#####################################\n",
        "\n",
        "v = np.array([1,2,3])\n",
        "\n",
        "# both way are fine\n",
        "v1 = np.reshape(v, (3,1))  # v.reshape(3,1)\n",
        "\n",
        "w = np.array([4,5])\n",
        "print(v1)\n",
        "print(w)\n",
        "\n",
        "# outer product\n",
        "v1 * w"
      ],
      "execution_count": 0,
      "outputs": []
    },
    {
      "cell_type": "markdown",
      "metadata": {
        "id": "tJQSG10vOIvI",
        "colab_type": "text"
      },
      "source": [
        "## 生成matrix"
      ]
    },
    {
      "cell_type": "code",
      "metadata": {
        "id": "4LXzZSnpOKdK",
        "colab_type": "code",
        "colab": {}
      },
      "source": [
        ">>> np.random.randint(5, size=(2, 4))\n",
        "array([[4, 0, 2, 1],\n",
        "       [3, 2, 2, 0]])\n",
        "\n",
        "# create diagonal matrix\n",
        "c = np.eye(3)\n",
        "# array([[1., 0., 0.],\n",
        "#        [0., 1., 0.],\n",
        "#        [0., 0., 1.]])\n",
        "\n",
        "m1 = np.zeros((2,2))\n",
        "# array([[0., 0.],\n",
        "#        [0., 0.]])"
      ],
      "execution_count": 0,
      "outputs": []
    },
    {
      "cell_type": "markdown",
      "metadata": {
        "id": "1coq5crYOafl",
        "colab_type": "text"
      },
      "source": [
        "## transpose"
      ]
    },
    {
      "cell_type": "code",
      "metadata": {
        "id": "4YZa6KvuObUA",
        "colab_type": "code",
        "colab": {}
      },
      "source": [
        "x = np.array([[1,2],\n",
        "              [3,4]])\n",
        "x.T"
      ],
      "execution_count": 0,
      "outputs": []
    },
    {
      "cell_type": "code",
      "metadata": {
        "id": "DOWVrUtlOZfB",
        "colab_type": "code",
        "colab": {}
      },
      "source": [
        "## transpose"
      ],
      "execution_count": 0,
      "outputs": []
    },
    {
      "cell_type": "markdown",
      "metadata": {
        "id": "K8V-ngQGOMkB",
        "colab_type": "text"
      },
      "source": [
        "## dot prodcut and element-wise multiplication\n",
        "\n",
        "you can define data type with `dtype=np.float64`\n",
        "another one is `dtype=np.int64`"
      ]
    },
    {
      "cell_type": "code",
      "metadata": {
        "id": "iX--4jZaOO0T",
        "colab_type": "code",
        "colab": {}
      },
      "source": [
        "x = np.array([[1,2],\n",
        "              [3,4]], dtype=np.float64)\n",
        "\n",
        "y = np.array([[5,6],\n",
        "              [7,8]], dtype=np.float64)\n",
        "\n",
        "v = np.array([9,10])\n",
        "w = np.array([11, 12])\n",
        "\n",
        "# matrix multiplication, both works\n",
        "x.dot(y)\n",
        "np.matmul(x,y)\n",
        "\n",
        "# element wise\n",
        "x * y"
      ],
      "execution_count": 0,
      "outputs": []
    },
    {
      "cell_type": "markdown",
      "metadata": {
        "id": "Exh3ulj-Opw7",
        "colab_type": "text"
      },
      "source": [
        "## amazing broadcasting"
      ]
    },
    {
      "cell_type": "code",
      "metadata": {
        "id": "_5B1l2ANOovb",
        "colab_type": "code",
        "colab": {}
      },
      "source": [
        "x = np.array([[1,2,3],\n",
        "              [4,5,6]])\n",
        "\n",
        "v = np.array([1,2,3])\n",
        "\n",
        "# broadcasting\n",
        "# it will auto help me make two matricesthe same rank \n",
        "# and compute\n",
        "x + v\n",
        "\n",
        "\n",
        "#####################\n",
        "\n",
        "x = np.array([[1,2,3],\n",
        "              [4,5,6]])\n",
        "\n",
        "w = np.array([4,5])\n",
        "\n",
        "# x shape is 2,3\n",
        "# x transpose will be 3,2 and we can broadcast against w\n",
        "# then we transpose back\n",
        "\n",
        "# (x.T + w).T\n",
        "\n",
        "# or you can reshape w to 2, 1 and brocast afainst x\n",
        "# np.reshape(w,(2,1)) + x\n",
        "\n",
        "\n",
        "# nyumpy also do array scalar multiplication via boardcasting\n",
        "\n",
        "x * 2"
      ],
      "execution_count": 0,
      "outputs": []
    },
    {
      "cell_type": "markdown",
      "metadata": {
        "id": "UiE_e0yO6Y_m",
        "colab_type": "text"
      },
      "source": [
        "##畫圖1 確認x, y 軸的上下限，確認點\n"
      ]
    },
    {
      "cell_type": "code",
      "metadata": {
        "id": "asXA7oFKwrks",
        "colab_type": "code",
        "outputId": "374fa908-920e-4bfa-cc8c-7bfeeb1d4b7d",
        "colab": {
          "base_uri": "https://localhost:8080/",
          "height": 269
        }
      },
      "source": [
        "import matplotlib.pyplot as plt\n",
        "\n",
        "# point on the graph, x,y pair\n",
        "plt.plot([1,2,3,4], [1,4,9,16], 'ro')\n",
        "\n",
        "# 0, 6 is x \n",
        "# 0, 20 is y\n",
        "\n",
        "plt.axis([0, 6, 0, 20])\n",
        "plt.show()\n",
        "\n"
      ],
      "execution_count": 0,
      "outputs": [
        {
          "output_type": "display_data",
          "data": {
            "image/png": "[encoded data removed]",
            "text/plain": [
              "<Figure size 432x288 with 1 Axes>"
            ]
          },
          "metadata": {
            "tags": []
          }
        }
      ]
    },
    {
      "cell_type": "markdown",
      "metadata": {
        "id": "5YmgGJak6r2t",
        "colab_type": "text"
      },
      "source": [
        "## 畫圖2 給定x的範圍, y = x的函數去畫\n",
        "\n",
        "\n"
      ]
    },
    {
      "cell_type": "code",
      "metadata": {
        "id": "IoDu_n516y0f",
        "colab_type": "code",
        "colab": {}
      },
      "source": [
        "import numpy as np\n",
        "\n",
        "# get 100 point in x,  use liner space method, 0-10, 100 points\n",
        "x = np.linspace(0,10,100)\n",
        "\n",
        "# y = sinx + x\n",
        "y = np.sin(x) + x\n",
        "\n",
        "\n",
        "\n",
        "\n",
        "plt.plot(x,y)\n",
        "\n",
        "#################################\n",
        "\n",
        "\n",
        "# parametric equation\n",
        "# r = 1 + cos(3 theta), 0 < theta < 2 pi\n",
        "\n",
        "# from 0 to 2pi, 200 point\n",
        "theta = np.linspace(0, 2*np.pi, 200)         \n",
        "\n",
        "# r is a path defined by this eq: r = 1 + cos(3t)\n",
        "r = 1 + np.cos(3*theta) \n",
        "\n",
        "# covert polar coord.(r, theta) to cartian coor.(x,y)\n",
        "plt.plot(r*np.cos(theta), r*np.sin(theta))   \n"
      ],
      "execution_count": 0,
      "outputs": []
    },
    {
      "cell_type": "markdown",
      "metadata": {
        "id": "TZ74fp2IO3Iy",
        "colab_type": "text"
      },
      "source": [
        ""
      ]
    }
  ]
}